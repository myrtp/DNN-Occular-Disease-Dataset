{
  "nbformat": 4,
  "nbformat_minor": 0,
  "metadata": {
    "colab": {
      "provenance": [],
      "gpuType": "T4",
      "toc_visible": true,
      "mount_file_id": "1U7dq6PKGbsHtiq_KoicEO9LyhdECFqjU",
      "authorship_tag": "ABX9TyPfQP2lC4kYkuxPFOL+IL7L",
      "include_colab_link": true
    },
    "kernelspec": {
      "name": "python3",
      "display_name": "Python 3"
    },
    "language_info": {
      "name": "python"
    },
    "accelerator": "GPU"
  },
  "cells": [
    {
      "cell_type": "markdown",
      "metadata": {
        "id": "view-in-github",
        "colab_type": "text"
      },
      "source": [
        "<a href=\"https://colab.research.google.com/github/myrtp/DNN-Occular-Disease-Dataset/blob/main/crop_images_DNN.ipynb\" target=\"_parent\"><img src=\"https://colab.research.google.com/assets/colab-badge.svg\" alt=\"Open In Colab\"/></a>"
      ]
    },
    {
      "cell_type": "code",
      "execution_count": null,
      "metadata": {
        "id": "bFS2LWwDcXRt"
      },
      "outputs": [],
      "source": [
        "eyes_training_imgs = '/content/drive/My Drive/dnn_dataset/ODIR-5K/Training Images'\n",
        "\n",
        "cropped_images = '/content/drive/My Drive/dnn_dataset/ODIR-5K/cropped_training_images'\n"
      ]
    },
    {
      "cell_type": "markdown",
      "source": [],
      "metadata": {
        "id": "N9KJSR0Izsa2"
      }
    },
    {
      "cell_type": "code",
      "source": [
        "import os\n",
        "import numpy as np\n",
        "import matplotlib.pyplot as plt\n",
        "from skimage import io, color, filters, measure\n",
        "\n",
        "def crop_image_scikit(image_file, save_folder):\n",
        "    # Load image\n",
        "    img = io.imread(image_file)\n",
        "\n",
        "    # Convert to grayscale\n",
        "    img_gray = color.rgb2gray(img)\n",
        "\n",
        "    # Apply thresholding\n",
        "    threshold_value = filters.threshold_otsu(img_gray)\n",
        "    binary_image = img_gray > threshold_value\n",
        "\n",
        "    # Find contours\n",
        "    labeled_image = measure.label(binary_image)\n",
        "    regions = measure.regionprops(labeled_image)\n",
        "    region_areas = [region.area for region in regions]\n",
        "    largest_region_index = region_areas.index(max(region_areas))\n",
        "    largest_region = regions[largest_region_index]\n",
        "\n",
        "    # Get bounding box coordinates\n",
        "    min_row, min_col, max_row, max_col = largest_region.bbox\n",
        "\n",
        "    # Crop the image\n",
        "    cropped_image = img[min_row:max_row, min_col:max_col]\n",
        "\n",
        "\n",
        "    # Save cropped image to specified folder\n",
        "    if save_folder:\n",
        "        if not os.path.exists(save_folder):\n",
        "            os.makedirs(save_folder)\n",
        "        save_path = os.path.join(save_folder, os.path.basename(image_file))\n",
        "        io.imsave(save_path, cropped_image)"
      ],
      "metadata": {
        "id": "-66C5cKkieD9"
      },
      "execution_count": null,
      "outputs": []
    },
    {
      "cell_type": "code",
      "source": [
        "# List all files in the image folder\n",
        "image_files = os.listdir(eyes_training_imgs)\n",
        "\n",
        "# Iterate over each image file and call the function\n",
        "for image_file in image_files:\n",
        "    # Construct the full path to the image file\n",
        "    full_image_file_path = os.path.join(eyes_training_imgs, image_file)\n",
        "\n",
        "    # Call the function\n",
        "    crop_image_scikit(full_image_file_path, cropped_images)\n"
      ],
      "metadata": {
        "id": "S4SmqRX8jIxW"
      },
      "execution_count": null,
      "outputs": []
    }
  ]
}